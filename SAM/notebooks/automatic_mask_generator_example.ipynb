{
 "cells": [
  {
   "cell_type": "code",
   "execution_count": 1,
   "id": "560725a2",
   "metadata": {},
   "outputs": [],
   "source": [
    "import numpy as np\n",
    "import torch\n",
    "import matplotlib.pyplot as plt\n",
    "import cv2\n",
    "import os\n",
    "import shutil\n",
    "from tqdm import tqdm\n",
    "from joblib import Parallel, delayed\n",
    "from skimage.measure import label"
   ]
  },
  {
   "cell_type": "code",
   "execution_count": 2,
   "metadata": {},
   "outputs": [],
   "source": [
    "def show_mask(mask, ax, random_color=False):\n",
    "    if random_color:\n",
    "        color = np.concatenate([np.random.random(3), np.array([0.6])], axis=0)\n",
    "    else:\n",
    "        color = np.array([30/255, 144/255, 255/255, 0.6])\n",
    "    h, w = mask.shape[-2:]\n",
    "    mask_image = mask.reshape(h, w, 1) * color.reshape(1, 1, -1)\n",
    "    ax.imshow(mask_image)\n",
    "    \n",
    "def show_points(coords, labels, ax, marker_size=375):\n",
    "    pos_points = coords[labels==1]\n",
    "    neg_points = coords[labels==0]\n",
    "    ax.scatter(pos_points[:, 0], pos_points[:, 1], color='green', marker='*', s=marker_size, edgecolor='white', linewidth=1.25)\n",
    "    ax.scatter(neg_points[:, 0], neg_points[:, 1], color='red', marker='*', s=marker_size, edgecolor='white', linewidth=1.25)   \n",
    "    \n",
    "def show_box(box, ax):\n",
    "    x0, y0 = box[0], box[1]\n",
    "    w, h = box[2] - box[0], box[3] - box[1]\n",
    "    ax.add_patch(plt.Rectangle((x0, y0), w, h, edgecolor='green', facecolor=(0,0,0,0), lw=2))    \n"
   ]
  },
  {
   "cell_type": "code",
   "execution_count": 3,
   "id": "74b6e5f0",
   "metadata": {},
   "outputs": [],
   "source": [
    "def show_anns(anns):\n",
    "    if len(anns) == 0:\n",
    "        return\n",
    "    sorted_anns = sorted(anns, key=(lambda x: x['area']), reverse=True)\n",
    "    ax = plt.gca()\n",
    "    ax.set_autoscale_on(False)\n",
    "\n",
    "    img = np.ones((sorted_anns[0]['segmentation'].shape[0], sorted_anns[0]['segmentation'].shape[1], 4))\n",
    "    img[:,:,3] = 0\n",
    "    for ann in sorted_anns:\n",
    "        m = ann['segmentation']\n",
    "        color_mask = np.concatenate([np.random.random(3), [0.35]])\n",
    "        img[m] = color_mask\n",
    "    ax.imshow(img)"
   ]
  },
  {
   "cell_type": "code",
   "execution_count": 4,
   "id": "4b05a469",
   "metadata": {},
   "outputs": [],
   "source": [
    "def get_files(PATH):\n",
    "    file_lan = []\n",
    "    for filepath,dirnames,filenames in os.walk(PATH):\n",
    "        for filename in filenames:\n",
    "            file_lan.append(os.path.join(filepath,filename))\n",
    "    return file_lan"
   ]
  },
  {
   "cell_type": "code",
   "execution_count": 5,
   "id": "0132d5d9",
   "metadata": {},
   "outputs": [],
   "source": [
    "def segment_connected_components(mask):\n",
    "    labeled_array, num_features = label(mask, connectivity=2, return_num=True)\n",
    "\n",
    "    components = {}\n",
    "    for label_idx in range(1, num_features + 1):\n",
    "        component_mask = (labeled_array == label_idx)\n",
    "        if component_mask.sum() < component_mask.shape[0]*component_mask.shape[1] * 0.004: continue\n",
    "        components[label_idx] = component_mask.astype(int)\n",
    "\n",
    "    return components"
   ]
  },
  {
   "cell_type": "code",
   "execution_count": 6,
   "metadata": {},
   "outputs": [
    {
     "name": "stderr",
     "output_type": "stream",
     "text": [
      "d:\\miniconda\\envs\\Trans\\Lib\\site-packages\\tqdm\\auto.py:21: TqdmWarning: IProgress not found. Please update jupyter and ipywidgets. See https://ipywidgets.readthedocs.io/en/stable/user_install.html\n",
      "  from .autonotebook import tqdm as notebook_tqdm\n"
     ]
    }
   ],
   "source": [
    "import sys\n",
    "sys.path.append(\"..\")\n",
    "\n",
    "from segment_anything import sam_model_registry, SamPredictor\n",
    "sam_checkpoint = \"sam_vit_l_0b3195.pth\"\n",
    "\n",
    "model_type = \"vit_l\"\n",
    "\n",
    "device = 'cuda' if torch.cuda.is_available() else 'cpu'\n",
    "\n",
    "sam = sam_model_registry[model_type](checkpoint=sam_checkpoint)\n",
    "sam.to(device=device)\n",
    "\n",
    "predictor = SamPredictor(sam)"
   ]
  },
  {
   "cell_type": "code",
   "execution_count": 7,
   "id": "63832241",
   "metadata": {},
   "outputs": [],
   "source": [
    "pathlist = [r'D:/Code/deep_learning/PrivateWork/20240514DIS_SAM/IS-Net/DIS5K/DIS5K-test/gt/',\n",
    "            ]"
   ]
  },
  {
   "cell_type": "code",
   "execution_count": 10,
   "metadata": {},
   "outputs": [
    {
     "name": "stdout",
     "output_type": "stream",
     "text": [
      "1 / 1\n",
      "3\n"
     ]
    },
    {
     "name": "stderr",
     "output_type": "stream",
     "text": [
      " 33%|███▎      | 1/3 [00:00<00:01,  1.63it/s]"
     ]
    },
    {
     "name": "stdout",
     "output_type": "stream",
     "text": [
      "D:/Code/deep_learning/PrivateWork/20240514DIS_SAM/IS-Net/DIS5K/DIS5K-test/enhance_im/1#Accessories#1#Bag#2339506821_83cf9f1d22_o_comp_1.jpg\n"
     ]
    },
    {
     "name": "stderr",
     "output_type": "stream",
     "text": [
      " 67%|██████▋   | 2/3 [00:00<00:00,  2.59it/s]"
     ]
    },
    {
     "name": "stdout",
     "output_type": "stream",
     "text": [
      "D:/Code/deep_learning/PrivateWork/20240514DIS_SAM/IS-Net/DIS5K/DIS5K-test/enhance_im/1#Accessories#1#Bag#3292738108_c51336a8be_o_comp_1.jpg\n",
      "D:/Code/deep_learning/PrivateWork/20240514DIS_SAM/IS-Net/DIS5K/DIS5K-test/enhance_im/4#Architecture#10#Pavilion#5795028920_08884db993_o_comp_1.jpg\n",
      "D:/Code/deep_learning/PrivateWork/20240514DIS_SAM/IS-Net/DIS5K/DIS5K-test/enhance_im/4#Architecture#10#Pavilion#5795028920_08884db993_o_comp_2.jpg\n"
     ]
    },
    {
     "name": "stderr",
     "output_type": "stream",
     "text": [
      "100%|██████████| 3/3 [00:01<00:00,  1.74it/s]"
     ]
    },
    {
     "name": "stdout",
     "output_type": "stream",
     "text": [
      "D:/Code/deep_learning/PrivateWork/20240514DIS_SAM/IS-Net/DIS5K/DIS5K-test/enhance_im/4#Architecture#10#Pavilion#5795028920_08884db993_o_comp_0.jpg\n"
     ]
    },
    {
     "name": "stderr",
     "output_type": "stream",
     "text": [
      "\n"
     ]
    }
   ],
   "source": [
    "def istestdatas(impath):\n",
    "    # if os.path.exists(impath.replace('/gt','/SGT')): \n",
    "    #     return\n",
    "    gt = cv2.imread(impath)\n",
    "    gt = cv2.cvtColor(gt, cv2.COLOR_BGR2GRAY)\n",
    "    tpath = impath.replace('/gt','/im').replace('.png','.jpg')\n",
    "    image = cv2.imread(tpath)\n",
    "    image = cv2.cvtColor(image, cv2.COLOR_BGR2RGB)\n",
    "    mask = gt.copy()\n",
    "    mask[mask<128] = 0\n",
    "    mask[mask>=128] = 1\n",
    "    connected_components = segment_connected_components(mask)\n",
    "    if connected_components.__len__()>1:\n",
    "        connected_components['0'] = mask\n",
    "    for idx, component in connected_components.items():\n",
    "        mask_input = np.array(component, dtype=\"uint8\")\n",
    "        if mask_input.max() == 1:\n",
    "            mask_input = mask_input * 255\n",
    "        rows, cols = np.where(mask_input > 125)\n",
    "        left,top = np.min(cols),np.min(rows)\n",
    "        right,bottom = np.max(cols),np.max(rows)\n",
    "        lenth = bottom-top\n",
    "        width = right-left\n",
    "        input_box = np.array([left,top,right,bottom])\n",
    "\n",
    "        input_label = np.array([1])\n",
    "\n",
    "        predictor.set_image(image)\n",
    "        masks,_,_ = predictor.predict(\n",
    "        point_labels=input_label,\n",
    "        box=input_box,\n",
    "        multimask_output=True,)\n",
    "        masks = masks[0]\n",
    "\n",
    "        print(tpath.replace('/im','/enhance_im').replace('.jpg','_comp_'+str(idx)+'.jpg'))\n",
    "        shutil.copy(tpath,tpath.replace('/im','/enhance_im').replace('.jpg','_comp_'+str(idx)+'.jpg'))\n",
    "        cv2.imwrite(impath.replace('/gt','/enhance_gt').replace('.png','_comp_'+str(idx)+'.png'), np.array(mask_input, dtype=\"uint8\"))\n",
    "        cv2.imwrite(impath.replace('/gt','/enhance_sam').replace('.png','_comp_'+str(idx)+'.png'), np.array(masks, dtype=\"uint8\")*255)\n",
    "    \n",
    "nums = 0\n",
    "for k in pathlist:\n",
    "    nums+=1\n",
    "    print(nums,'/',pathlist.__len__())\n",
    "    impaths = get_files(k)\n",
    "    enhance_im_path = k.replace('/gt','/enhance_im')\n",
    "    enhance_gt_path = k.replace('/gt','/enhance_gt')\n",
    "    enhance_sam_path = k.replace('/gt','/enhance_sam')\n",
    "    if not os.path.exists(enhance_im_path):\n",
    "        os.makedirs(enhance_im_path, exist_ok=True)\n",
    "    if not os.path.exists(enhance_gt_path):\n",
    "        os.makedirs(enhance_gt_path, exist_ok=True)\n",
    "    if not os.path.exists(enhance_sam_path):\n",
    "        os.makedirs(enhance_sam_path, exist_ok=True)\n",
    "    print(impaths.__len__())\n",
    "    for im in tqdm(range(impaths.__len__()),total=impaths.__len__()):\n",
    "        istestdatas(impaths[im]) \n",
    "        # break"
   ]
  },
  {
   "cell_type": "code",
   "execution_count": null,
   "id": "46ad1f43",
   "metadata": {},
   "outputs": [],
   "source": []
  }
 ],
 "metadata": {
  "kernelspec": {
   "display_name": "Python 3 (ipykernel)",
   "language": "python",
   "name": "python3"
  },
  "language_info": {
   "codemirror_mode": {
    "name": "ipython",
    "version": 3
   },
   "file_extension": ".py",
   "mimetype": "text/x-python",
   "name": "python",
   "nbconvert_exporter": "python",
   "pygments_lexer": "ipython3",
   "version": "3.11.4"
  }
 },
 "nbformat": 4,
 "nbformat_minor": 5
}
